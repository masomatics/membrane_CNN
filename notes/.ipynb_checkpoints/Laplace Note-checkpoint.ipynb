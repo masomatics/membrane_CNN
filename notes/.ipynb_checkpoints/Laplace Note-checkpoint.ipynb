{
 "cells": [
  {
   "cell_type": "code",
   "execution_count": 28,
   "metadata": {
    "collapsed": true
   },
   "outputs": [],
   "source": [
    "import sys\n",
    "import numpy as np\n",
    "import chainer\n",
    "import chainer.functions as F\n",
    "from chainer import cuda, Function, FunctionSet, gradient_check, Variable, optimizers\n",
    "from matplotlib import pyplot as plt\n",
    "from PIL import Image\n",
    "import cPickle as pickle\n",
    "cuda.init()\n",
    "%matplotlib inline"
   ]
  },
  {
   "cell_type": "code",
   "execution_count": 29,
   "metadata": {
    "collapsed": false
   },
   "outputs": [],
   "source": [
    "epochsize = 10\n",
    "cooling_rate = 0.95\n",
    "initial_temperature= 1.5\n",
    "boringsize = 0\n",
    "patchsize = 33"
   ]
  },
  {
   "cell_type": "code",
   "execution_count": 60,
   "metadata": {
    "collapsed": false
   },
   "outputs": [],
   "source": [
    "slice_index = 40\n",
    "index_h1 = 19\n",
    "index_h2 = 19\n",
    "index_w1 = 51\n",
    "index_w2 = 52\n",
    "parentpath= '/home/koyama-m/Research/membrane_CNN'\n",
    "\n",
    "train_filepath1 = \"/home/koyama-m/Research/membrane_CNN/data/training_dataset/256_training_dataset_crop%s\" %patchsize \n",
    "train_filepath2 = \"/home/koyama-m/Research/membrane_CNN/data/training_dataset/256_training_dataset_crop%s\" %patchsize \n",
    "\n",
    "filename1 = '256_training_image_%03d%03d%03d.tif'% (slice_index,index_h1, index_w1 )\n",
    "filename2 = '256_training_image_%03d%03d%03d.tif'% (slice_index,index_h2, index_w2 )\n",
    "\n",
    "\n",
    "train_image1=  Image.open(\"%s/%s\" % (train_filepath1 , filename1))\n",
    "train_image2=  Image.open(\"%s/%s\" % (train_filepath2 , filename2))\n",
    "\n",
    "train_image1_array = np.array(list(train_image1.getdata())).reshape(patchsize, patchsize) /255.\n",
    "train_image2_array = np.array(list(train_image2.getdata())).reshape(patchsize, patchsize) /255.\n"
   ]
  },
  {
   "cell_type": "markdown",
   "metadata": {},
   "source": [
    "stride = 5  is the default, but it is using 3?"
   ]
  },
  {
   "cell_type": "code",
   "execution_count": 61,
   "metadata": {
    "collapsed": false
   },
   "outputs": [
    {
     "data": {
      "text/plain": [
       "<matplotlib.image.AxesImage at 0x7f5bfdeda9d0>"
      ]
     },
     "execution_count": 61,
     "metadata": {},
     "output_type": "execute_result"
    },
    {
     "data": {
      "image/png": "[encoded data removed]",
      "text/plain": [
       "<matplotlib.figure.Figure at 0x7f5bff1c1d50>"
      ]
     },
     "metadata": {},
     "output_type": "display_data"
    }
   ],
   "source": [
    "plt.imshow(train_image1_array, cmap = plt.cm.gray, interpolation='none')"
   ]
  },
  {
   "cell_type": "code",
   "execution_count": 62,
   "metadata": {
    "collapsed": false
   },
   "outputs": [
    {
     "data": {
      "text/plain": [
       "<matplotlib.image.AxesImage at 0x7f5bfe448ad0>"
      ]
     },
     "execution_count": 62,
     "metadata": {},
     "output_type": "execute_result"
    },
    {
     "data": {
      "image/png": "[encoded data removed]",
      "text/plain": [
       "<matplotlib.figure.Figure at 0x7f5bff1c1e50>"
      ]
     },
     "metadata": {},
     "output_type": "display_data"
    }
   ],
   "source": [
    "plt.imshow(train_image2_array, cmap = plt.cm.gray, interpolation='none')"
   ]
  },
  {
   "cell_type": "code",
   "execution_count": 63,
   "metadata": {
    "collapsed": false
   },
   "outputs": [
    {
     "data": {
      "text/plain": [
       "0.60392156862745094"
      ]
     },
     "execution_count": 63,
     "metadata": {},
     "output_type": "execute_result"
    }
   ],
   "source": [
    "xcoord = 18\n",
    "stride =3\n",
    "train_image1_array[10][xcoord]"
   ]
  },
  {
   "cell_type": "code",
   "execution_count": 64,
   "metadata": {
    "collapsed": false
   },
   "outputs": [
    {
     "data": {
      "text/plain": [
       "0.60392156862745094"
      ]
     },
     "execution_count": 64,
     "metadata": {},
     "output_type": "execute_result"
    }
   ],
   "source": [
    "train_image2_array[10][xcoord - stride]"
   ]
  },
  {
   "cell_type": "code",
   "execution_count": 84,
   "metadata": {
    "collapsed": false
   },
   "outputs": [
    {
     "data": {
      "text/plain": [
       "(153, 57, 186, 90)"
      ]
     },
     "execution_count": 84,
     "metadata": {},
     "output_type": "execute_result"
    }
   ],
   "source": [
    "patch_range1 = (index_w1 * stride, index_h1 * stride, index_w1 * stride + patchsize, index_h1 * stride + patchsize)\n",
    "patch_range1"
   ]
  },
  {
   "cell_type": "code",
   "execution_count": 85,
   "metadata": {
    "collapsed": false
   },
   "outputs": [],
   "source": [
    "filename = 'edgemap%03d.tif' % slice_index\n",
    "filename2 = 'pooled_image_%03d.tif'% slice_index\n",
    "filename3 = 'multi_crop_prediction_binary_image_256_%03d.tif'% slice_index\n",
    "label_data_dir  = 'raw/train-labels'\n",
    "\n",
    "label_data_dir  = 'raw/train-labels'\n",
    "raw256path =\"preprocessed/training/pooled_training_dataset\"\n",
    "crop15init_image_path = \"reconstructed_256images_crop15\"  \n",
    "\n",
    "testimage=  Image.open(\"%s/data/%s/%s\" % (parentpath, raw256path, filename2))\n",
    "testlabel =Image.open(\"%s/data/%s/%s\" % (parentpath, label_data_dir, filename))\n",
    "test_reconstruct = Image.open(\"%s/data/%s/%s\" % (parentpath, crop15init_image_path, filename3))\n",
    "\n",
    "\n",
    "testimage= testimage.crop(patch_range1) \n",
    "testlabel= testlabel.crop(patch_range1) \n",
    "testrecon = test_reconstruct.crop(patch_range1)"
   ]
  },
  {
   "cell_type": "code",
   "execution_count": 87,
   "metadata": {
    "collapsed": false
   },
   "outputs": [],
   "source": [
    "testimage_array = np.array(list(testimage.getdata())).reshape(patchsize, patchsize) /255.\n",
    "testlabel_array = np.array(list(testlabel.getdata())).reshape(patchsize, patchsize) /255.\n",
    "test_reconstruct_array = np.array(list(testrecon.getdata())).reshape(patchsize, patchsize) /255."
   ]
  },
  {
   "cell_type": "code",
   "execution_count": 90,
   "metadata": {
    "collapsed": false
   },
   "outputs": [
    {
     "data": {
      "text/plain": [
       "<matplotlib.image.AxesImage at 0x7f5bfd59a6d0>"
      ]
     },
     "execution_count": 90,
     "metadata": {},
     "output_type": "execute_result"
    },
    {
     "data": {
      "image/png": "[encoded data removed]",
      "text/plain": [
       "<matplotlib.figure.Figure at 0x7f5bfe423410>"
      ]
     },
     "metadata": {},
     "output_type": "display_data"
    }
   ],
   "source": [
    "plt.subplot(1,4,1)\n",
    "plt.imshow(train_image1_array, cmap = plt.cm.gray, interpolation='none')\n",
    "plt.subplot(1,4,2)\n",
    "plt.imshow(testimage_array, cmap = plt.cm.gray, interpolation='none')\n",
    "plt.subplot(1,4,3)\n",
    "plt.imshow(testlabel_array, cmap = plt.cm.gray, interpolation='none')\n",
    "plt.subplot(1,4,4)\n",
    "plt.imshow(test_reconstruct_array, cmap = plt.cm.gray, interpolation='none')"
   ]
  },
  {
   "cell_type": "markdown",
   "metadata": {},
   "source": [
    "As you see, the reconstructed image is shifted. The formula of the shift is given by subtracting recon_patch/2 from both coordinates?"
   ]
  },
  {
   "cell_type": "code",
   "execution_count": 129,
   "metadata": {
    "collapsed": false
   },
   "outputs": [],
   "source": [
    "recon_patch = 15\n",
    "shift = recon_patch/2\n",
    "patch_range_shift = (index_w1 * stride - shift , index_h1 * stride  - shift, index_w1 * stride + patchsize- shift, index_h1 * stride + patchsize- shift)\n",
    "testrecon = test_reconstruct.crop(patch_range_shift)\n",
    "test_reconstruct_array = np.array(list(testrecon.getdata())).reshape(patchsize, patchsize) /255."
   ]
  },
  {
   "cell_type": "code",
   "execution_count": 130,
   "metadata": {
    "collapsed": false
   },
   "outputs": [
    {
     "data": {
      "text/plain": [
       "<matplotlib.image.AxesImage at 0x7f5bfa5ff390>"
      ]
     },
     "execution_count": 130,
     "metadata": {},
     "output_type": "execute_result"
    },
    {
     "data": {
      "image/png": "[encoded data removed]",
      "text/plain": [
       "<matplotlib.figure.Figure at 0x7f5bfd71cd10>"
      ]
     },
     "metadata": {},
     "output_type": "display_data"
    }
   ],
   "source": [
    "plt.subplot(1,4,1)\n",
    "plt.imshow(train_image1_array, cmap = plt.cm.gray, interpolation='none')\n",
    "plt.subplot(1,4,2)\n",
    "plt.imshow(testimage_array, cmap = plt.cm.gray, interpolation='none')\n",
    "plt.subplot(1,4,3)\n",
    "plt.imshow(testlabel_array, cmap = plt.cm.gray, interpolation='none')\n",
    "plt.subplot(1,4,4)\n",
    "plt.imshow(test_reconstruct_array, cmap = plt.cm.gray, interpolation='none')"
   ]
  },
  {
   "cell_type": "markdown",
   "metadata": {},
   "source": [
    "With this, however, pm ratio will be corrupted. I guess I have to make the dataset from scratch... That is truly disgusting.\n",
    "\n",
    "Make the datafile of the sigma (difference btw reconstr and ) \n",
    "Goto preprocessing, follow its procedure and make the similar dataset.\n",
    "\n",
    "Wahh...\n",
    "\n",
    "\n",
    "\n"
   ]
  },
  {
   "cell_type": "code",
   "execution_count": null,
   "metadata": {
    "collapsed": true
   },
   "outputs": [],
   "source": []
  },
  {
   "cell_type": "code",
   "execution_count": null,
   "metadata": {
    "collapsed": true
   },
   "outputs": [],
   "source": []
  }
 ],
 "metadata": {
  "kernelspec": {
   "display_name": "Python 2",
   "language": "python",
   "name": "python2"
  },
  "language_info": {
   "codemirror_mode": {
    "name": "ipython",
    "version": 2
   },
   "file_extension": ".py",
   "mimetype": "text/x-python",
   "name": "python",
   "nbconvert_exporter": "python",
   "pygments_lexer": "ipython2",
   "version": "2.7.10"
  }
 },
 "nbformat": 4,
 "nbformat_minor": 0
}
