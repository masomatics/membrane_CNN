{
 "cells": [
  {
   "cell_type": "code",
   "execution_count": 1,
   "metadata": {
    "collapsed": true
   },
   "outputs": [],
   "source": [
    "#################\n",
    "####Prepare Data#### cropsize を決める前にちゃんとcnnの中間層のサイズをチェックしなければ\n",
    "#################\n",
    "\n",
    "cropsize = 15\n",
    "import sys,pickle\n",
    "sys.path.append('/home/koyama-m/Research/source_chaosMaso/')\n",
    "prefix = '/home/koyama-m/Research/membrane_CNN/data/'\n",
    "train_path  = prefix + 'training_dataset/256_training_dataset_crop' + str(cropsize) + '/'\n",
    "test_path = prefix + 'test_dataset/256_test_dataset_crop' + str(cropsize) + '/'\n",
    "test_path2   = prefix + 'test_dataset/reconstruction_256_test_dataset_crop' + str(cropsize) + '/'"
   ]
  },
  {
   "cell_type": "code",
   "execution_count": 5,
   "metadata": {
    "collapsed": false
   },
   "outputs": [
    {
     "name": "stdout",
     "output_type": "stream",
     "text": [
      "189351\n",
      "44848\n",
      "now index :0\n",
      "now index :5000\n",
      "now index :10000\n",
      "now index :15000\n",
      "now index :20000\n",
      "now index :25000\n",
      "now index :30000\n",
      "now index :35000\n",
      "now index :40000\n",
      "now index :45000\n",
      "now index :50000\n",
      "now index :55000\n",
      "now index :60000\n",
      "now index :65000\n",
      "now index :70000\n",
      "now index :75000\n",
      "now index :80000\n",
      "now index :85000\n",
      "now index :90000\n",
      "now index :95000\n",
      "now index :100000\n",
      "now index :105000\n",
      "now index :110000\n",
      "now index :115000\n",
      "now index :120000\n",
      "now index :125000\n",
      "now index :130000\n",
      "now index :135000\n",
      "now index :140000\n",
      "now index :145000\n",
      "now index :150000\n",
      "now index :155000\n",
      "now index :160000\n",
      "now index :165000\n",
      "now index :170000\n",
      "now index :175000\n",
      "now index :180000\n",
      "now index :185000\n",
      "now index :0\n",
      "now index :5000\n",
      "now index :10000\n",
      "now index :15000\n",
      "now index :20000\n",
      "now index :25000\n",
      "now index :30000\n",
      "now index :35000\n",
      "now index :40000\n"
     ]
    }
   ],
   "source": [
    "import make_dataset\n",
    "reload(make_dataset)\n",
    "\n",
    "make_dataset.make_dataset(train_path, test_path, prefix, cropsize)"
   ]
  },
  {
   "cell_type": "code",
   "execution_count": 2,
   "metadata": {
    "collapsed": false
   },
   "outputs": [],
   "source": [
    "#######################\n",
    "###### Setup############\n",
    "#######################\n",
    "# To do :\n",
    "#     Monitor validation error.\n",
    "#     Show Hyperparamters.\n",
    "\n",
    "import pickle\n",
    "import numpy as np\n",
    "from chainer import cuda, Function, FunctionSet, gradient_check, Variable, optimizers\n",
    "import chainer.functions as F\n",
    "from matplotlib import pyplot as plt\n",
    "%matplotlib inline\n",
    "import logistic_reg, convnet_trial\n",
    "reload(logistic_reg)\n",
    "reload(convnet_trial)\n",
    "\n",
    "\n",
    "###### load dataset ######\n",
    "data_path ='/home/koyama-m/Research/membrane_CNN/data/'\n",
    "file_path = data_path+'256_membrane%s.pkl' %str(cropsize)\n",
    "dataset = pickle.load(open(file_path))\n",
    "x_train0 = dataset['x_train']/255.\n",
    "y_train0 = dataset['y_train']\n",
    "x_test = dataset['x_test']/255.\n",
    "y_test = dataset['y_test']"
   ]
  },
  {
   "cell_type": "code",
   "execution_count": 3,
   "metadata": {
    "collapsed": false
   },
   "outputs": [
    {
     "name": "stdout",
     "output_type": "stream",
     "text": [
      "[94676, 94675]\n",
      "39351\n"
     ]
    },
    {
     "data": {
      "text/plain": [
       "(15, 15)"
      ]
     },
     "execution_count": 3,
     "metadata": {},
     "output_type": "execute_result"
    }
   ],
   "source": [
    "neg_index = np.where(y_train0 == 0)[0]\n",
    "pos_index = np.where(y_train0 == 1)[0]\n",
    "neg_pos_prop = [neg_index.shape[0], pos_index.shape[0] ]\n",
    "print neg_pos_prop\n",
    "\n",
    "validate_index = np.arange(150000, y_train0.shape[0],1)\n",
    "train_index  = np.arange(0,150000,1)\n",
    "print validate_index.shape[0]\n",
    "\n",
    "x_valid = x_train0[validate_index]\n",
    "y_valid = y_train0[validate_index]\n",
    "x_train = x_train0[train_index]\n",
    "y_train = y_train0[train_index]\n",
    "\n",
    "x_train[1].shape"
   ]
  },
  {
   "cell_type": "code",
   "execution_count": 4,
   "metadata": {
    "collapsed": false
   },
   "outputs": [
    {
     "name": "stdout",
     "output_type": "stream",
     "text": [
      "3.0\n",
      "3.0\n"
     ]
    },
    {
     "data": {
      "text/plain": [
       "(150000, 1, 15, 15)"
      ]
     },
     "execution_count": 4,
     "metadata": {},
     "output_type": "execute_result"
    }
   ],
   "source": [
    "##### which do you want to use cnn or logistic regression ?  #####\n",
    "model_is_cnn = True\n",
    "\n",
    "##### reshape x for cnn  #####\n",
    "if(model_is_cnn==True):\n",
    "    x_train = x_train.reshape((x_train.shape[0],1,x_train.shape[1],x_train.shape[1]))\n",
    "    x_test = x_test.reshape((x_test.shape[0],1,x_test.shape[1],x_test.shape[1]))\n",
    "    x_valid = x_valid.reshape((x_valid.shape[0],1,x_valid.shape[1],x_valid.shape[1]))\n",
    "######### init GPU status #######\n",
    "cuda.init()\n",
    "\n",
    "#FXN MUST BE DEFINED BEFORE INITIALIZATION \n",
    "######## init models ########\n",
    "if(model_is_cnn==True):\n",
    "    model_cpu_ver = convnet_trial.convnet_trial(patchsize=x_train.shape[2])\n",
    "    model =  convnet_trial.convnet_trial(patchsize=x_train.shape[2]).to_gpu()\n",
    "else:\n",
    "    model =  logistic_reg.logistic_r(patchsize=x_train.shape[1]).to_gpu()\n",
    "\n",
    "######## init optimizer #######\n",
    "optimizer = optimizers.Adam()\n",
    "optimizer.setup(model.collect_parameters())\n",
    "optimizer.zero_grads()\n",
    "\n",
    "x_train.shape"
   ]
  },
  {
   "cell_type": "code",
   "execution_count": 5,
   "metadata": {
    "collapsed": false
   },
   "outputs": [
    {
     "name": "stdout",
     "output_type": "stream",
     "text": [
      "Make sure that first row is same as the second row\n",
      "(100, 1, 15, 15) (25, 1, 15, 15)\n"
     ]
    },
    {
     "data": {
      "image/png": "[encoded data removed]",
      "text/plain": [
       "<matplotlib.figure.Figure at 0x7f699c155ad0>"
      ]
     },
     "metadata": {},
     "output_type": "display_data"
    }
   ],
   "source": [
    "#####################\n",
    "# Checkin if the data augmentation procedure is correct\n",
    "#####################\n",
    "\n",
    "trainsize = x_train.shape[0]\n",
    "indexes = np.random.permutation(trainsize)\n",
    "\n",
    "minibatchsize = 25\n",
    "i = 10\n",
    "x_traintr = np.transpose(x_train, (0,1,3,2))\n",
    "x_trainlr  = x_train[:,:,:,::-1]\n",
    "x_trainud  = x_train[:,:,::-1,:]\n",
    "\n",
    "x_batch_orig = x_train[indexes[i : i + minibatchsize]]\n",
    "y_batch_orig = y_train[indexes[i : i + minibatchsize]]\n",
    "\n",
    "x_batch_tr = x_traintr[indexes[i : i + minibatchsize]]\n",
    "y_batch_tr = y_train[indexes[i : i + minibatchsize]]        \n",
    "        \n",
    "x_batch_lr = x_trainlr[indexes[i : i + minibatchsize]]\n",
    "y_batch_lr = y_train[indexes[i : i + minibatchsize]]\n",
    "        \n",
    "x_batch_ud = x_trainud[indexes[i : i + minibatchsize]]\n",
    "y_batch_ud = y_train[indexes[i : i + minibatchsize]]\n",
    "        \n",
    "pre_x_batch = np.concatenate((x_batch_orig,x_batch_tr, x_batch_lr, x_batch_ud), axis=0)\n",
    "pre_y_batch = np.concatenate((y_batch_orig,y_batch_tr, y_batch_lr, y_batch_ud), axis=0)\n",
    "\n",
    "        \n",
    "cuda.init()        \n",
    "x_batch = cuda.to_gpu(pre_x_batch)\n",
    "y_batch = cuda.to_gpu(pre_y_batch)\n",
    "\n",
    "nn=4\n",
    "\n",
    "print('Make sure that first row is same as the second row')\n",
    "patch_index = 4\n",
    "plt.subplot(2,nn,1)\n",
    "plt.imshow(x_batch_orig[patch_index][0], cmap = plt.cm.gray)\n",
    "plt.subplot(2,nn,2)\n",
    "plt.imshow(x_batch_orig[patch_index][0].transpose(), cmap = plt.cm.gray)\n",
    "plt.subplot(2,nn,3)\n",
    "plt.imshow(np.fliplr(x_batch_orig[patch_index][0]), cmap = plt.cm.gray)\n",
    "plt.subplot(2,nn,4)\n",
    "plt.imshow(np.flipud(x_batch_orig[patch_index][0]), cmap = plt.cm.gray)\n",
    "\n",
    "\n",
    "plt.subplot(2,nn,5)\n",
    "plt.imshow(x_batch_orig[patch_index][0], cmap = plt.cm.gray)\n",
    "plt.subplot(2,nn,6)\n",
    "plt.imshow(x_batch_tr[patch_index][0], cmap = plt.cm.gray)\n",
    "plt.subplot(2,nn,7)\n",
    "plt.imshow(x_batch_lr[patch_index][0], cmap = plt.cm.gray)\n",
    "plt.subplot(2,nn,8)\n",
    "plt.imshow(x_batch_ud[patch_index][0], cmap = plt.cm.gray)\n",
    "\n",
    "\n",
    "print pre_x_batch.shape,  x_batch_orig.shape"
   ]
  },
  {
   "cell_type": "code",
   "execution_count": 6,
   "metadata": {
    "collapsed": false
   },
   "outputs": [
    {
     "name": "stdout",
     "output_type": "stream",
     "text": [
      "3.0\n"
     ]
    }
   ],
   "source": [
    "######################\n",
    "#Model to be used\n",
    "######################\n",
    "\n",
    "patchsize = 15\n",
    "\n",
    "\n",
    "channel1 = 8.\n",
    "filtsize1 = 3.\n",
    "padsize1 = 0.\n",
    "poolsize1 = 2.\n",
    "stride1 = 2.\n",
    "        \n",
    "channel2 = 16.\n",
    "filtsize2 = 3.\n",
    "padsize2 = 0.\n",
    "poolsize2= 2.\n",
    "stride2 = 2.\n",
    "\n",
    "num_categ = 2\n",
    "        \n",
    "\n",
    "size1 = patchsize - (filtsize1 -1)+ padsize1 *2.\n",
    "size2 = np.ceil(size1/poolsize1)\n",
    "size3 = size2 - (filtsize2 -1)+ padsize2 *2.\n",
    "size4 = np.ceil(size3/poolsize2)\n",
    "\n",
    "sizef = size4**2*channel2 \n",
    "print size4"
   ]
  },
  {
   "cell_type": "code",
   "execution_count": 7,
   "metadata": {
    "collapsed": false
   },
   "outputs": [
    {
     "name": "stdout",
     "output_type": "stream",
     "text": [
      "(100, 1, 15, 15)\n",
      "(100, 8, 7, 7)  1st Layer\n",
      "(100, 16, 3, 3)  2nd Layer\n",
      "(100, 144)  3rd Layer\n",
      "(100, 2)  4th Layer\n",
      "(100, 2)\n"
     ]
    },
    {
     "data": {
      "image/png": "[encoded data removed]",
      "text/plain": [
       "<matplotlib.figure.Figure at 0x7f695a6e5d90>"
      ]
     },
     "metadata": {},
     "output_type": "display_data"
    }
   ],
   "source": [
    "######################\n",
    "#Verify that the model works\n",
    "######################\n",
    "\n",
    "conv1 = F.Convolution2D(1,int(channel1),int(filtsize1))\n",
    "conv2 = F.Convolution2D(int(channel1),int(channel2),int(filtsize2),pad=0)\n",
    "fc3 = F.Linear(int(size4)**2*int(channel2),int(size4)**2*int(channel2))\n",
    "fcf = F.Linear(int(size4)**2*int(channel2), num_categ) \n",
    "\n",
    "x_data = pre_x_batch\n",
    "y_data = pre_y_batch\n",
    "x = Variable(x_data, volatile=False)\n",
    "y = Variable(y_data, volatile = False)\n",
    "print x.data.shape\n",
    "\n",
    "#1\n",
    "h = F.max_pooling_2d(F.relu(conv1(x)), (2,2), stride=2)\n",
    "print h.data.shape, ' 1st Layer'\n",
    "\n",
    "#2\n",
    "h = F.max_pooling_2d(F.relu(conv2(h)), (2,2), stride=2)\n",
    "print h.data.shape, ' 2nd Layer'\n",
    "plt.imshow(h.data[1][5], cmap = plt.cm.gray)\n",
    "\n",
    "#3\n",
    "h = F.relu(fc3(h))\n",
    "print h.data.shape, ' 3rd Layer'\n",
    "#4\n",
    "h = fcf(h)\n",
    "print h.data.shape, ' 4th Layer'\n",
    "\n",
    "pred = F.softmax(h)\n",
    "print h.data.shape"
   ]
  },
  {
   "cell_type": "code",
   "execution_count": 8,
   "metadata": {
    "collapsed": false
   },
   "outputs": [
    {
     "data": {
      "text/plain": [
       "(150000, 1, 15, 15)"
      ]
     },
     "execution_count": 8,
     "metadata": {},
     "output_type": "execute_result"
    }
   ],
   "source": [
    "x_train.shape"
   ]
  },
  {
   "cell_type": "code",
   "execution_count": 9,
   "metadata": {
    "collapsed": false
   },
   "outputs": [
    {
     "name": "stdout",
     "output_type": "stream",
     "text": [
      "3.0\n"
     ]
    },
    {
     "data": {
      "text/plain": [
       "(<chainer.variable.Variable at 0x7f69692e4950>,\n",
       " <chainer.variable.Variable at 0x7f69692e4b10>,\n",
       " <chainer.variable.Variable at 0x7f69692e47d0>)"
      ]
     },
     "execution_count": 9,
     "metadata": {},
     "output_type": "execute_result"
    }
   ],
   "source": [
    "reload(convnet_trial)\n",
    "model_cpu_ver = convnet_trial.convnet_trial(patchsize=x_train.shape[2])\n",
    "model_cpu_ver.forward(x_data,y_data)"
   ]
  },
  {
   "cell_type": "code",
   "execution_count": 10,
   "metadata": {
    "collapsed": false
   },
   "outputs": [
    {
     "name": "stdout",
     "output_type": "stream",
     "text": [
      "epoch  0\n",
      "train loss:0.667982395833\n",
      "train accuracy(%)58.2841666667\n",
      "validation loss0.640897035599\n",
      "validation accuracy(%)63.5714454651\n",
      "epoch  1\n",
      "train loss:0.649266614583\n",
      "train accuracy(%)61.5096666667\n",
      "validation loss0.63242328167\n",
      "validation accuracy(%)65.1088943481\n",
      "epoch  2\n",
      "train loss:0.64144609375\n",
      "train accuracy(%)62.3996666667\n",
      "validation loss0.624333620071\n",
      "validation accuracy(%)65.0123214722\n",
      "epoch  3\n",
      "train loss:0.634130885417\n",
      "train accuracy(%)63.08\n",
      "validation loss0.619448900223\n",
      "validation accuracy(%)65.8814239502\n",
      "epoch  4\n",
      "train loss:0.63021796875\n",
      "train accuracy(%)63.5531666667\n",
      "validation loss0.611960887909\n",
      "validation accuracy(%)66.5421447754\n",
      "epoch  5\n",
      "train loss:0.626600208333\n",
      "train accuracy(%)63.9123333333\n",
      "validation loss0.608135223389\n",
      "validation accuracy(%)66.872505188\n",
      "epoch  6\n",
      "train loss:0.6232778125\n",
      "train accuracy(%)64.2318333333\n",
      "validation loss0.610888123512\n",
      "validation accuracy(%)66.5599365234\n"
     ]
    },
    {
     "ename": "KeyboardInterrupt",
     "evalue": "",
     "output_type": "error",
     "traceback": [
      "\u001b[1;31m---------------------------------------------------------------------------\u001b[0m",
      "\u001b[1;31mKeyboardInterrupt\u001b[0m                         Traceback (most recent call last)",
      "\u001b[1;32m<ipython-input-10-3befb693e7f2>\u001b[0m in \u001b[0;36m<module>\u001b[1;34m()\u001b[0m\n\u001b[0;32m     38\u001b[0m         \u001b[0moptimizer\u001b[0m\u001b[1;33m.\u001b[0m\u001b[0mzero_grads\u001b[0m\u001b[1;33m(\u001b[0m\u001b[1;33m)\u001b[0m\u001b[1;33m\u001b[0m\u001b[0m\n\u001b[0;32m     39\u001b[0m \u001b[1;33m\u001b[0m\u001b[0m\n\u001b[1;32m---> 40\u001b[1;33m         \u001b[0mloss\u001b[0m\u001b[1;33m,\u001b[0m \u001b[0maccuracy\u001b[0m\u001b[1;33m,\u001b[0m\u001b[0mpred\u001b[0m \u001b[1;33m=\u001b[0m \u001b[0mmodel\u001b[0m\u001b[1;33m.\u001b[0m\u001b[0mforward\u001b[0m\u001b[1;33m(\u001b[0m\u001b[0mx_batch\u001b[0m\u001b[1;33m,\u001b[0m \u001b[0my_batch\u001b[0m\u001b[1;33m)\u001b[0m\u001b[1;33m\u001b[0m\u001b[0m\n\u001b[0m\u001b[0;32m     41\u001b[0m \u001b[1;33m\u001b[0m\u001b[0m\n\u001b[0;32m     42\u001b[0m         \u001b[0msum_loss\u001b[0m \u001b[1;33m+=\u001b[0m \u001b[0mloss\u001b[0m\u001b[1;33m.\u001b[0m\u001b[0mdata\u001b[0m\u001b[1;33m*\u001b[0m\u001b[0mminibatchsize\u001b[0m\u001b[1;33m\u001b[0m\u001b[0m\n",
      "\u001b[1;32m/home/koyama-m/Research/source_chaosMaso/convnet_trial.pyc\u001b[0m in \u001b[0;36mforward\u001b[1;34m(self, x_data, y_data, train)\u001b[0m\n\u001b[0;32m     46\u001b[0m         \u001b[0mt\u001b[0m \u001b[1;33m=\u001b[0m \u001b[0mchainer\u001b[0m\u001b[1;33m.\u001b[0m\u001b[0mVariable\u001b[0m\u001b[1;33m(\u001b[0m\u001b[0my_data\u001b[0m\u001b[1;33m,\u001b[0m \u001b[0mvolatile\u001b[0m\u001b[1;33m=\u001b[0m\u001b[1;32mnot\u001b[0m \u001b[0mtrain\u001b[0m\u001b[1;33m)\u001b[0m\u001b[1;33m\u001b[0m\u001b[0m\n\u001b[0;32m     47\u001b[0m         \u001b[0mh\u001b[0m \u001b[1;33m=\u001b[0m \u001b[0mF\u001b[0m\u001b[1;33m.\u001b[0m\u001b[0mmax_pooling_2d\u001b[0m\u001b[1;33m(\u001b[0m\u001b[0mF\u001b[0m\u001b[1;33m.\u001b[0m\u001b[0mrelu\u001b[0m\u001b[1;33m(\u001b[0m\u001b[0mself\u001b[0m\u001b[1;33m.\u001b[0m\u001b[0mconv1\u001b[0m\u001b[1;33m(\u001b[0m\u001b[0mx\u001b[0m\u001b[1;33m)\u001b[0m\u001b[1;33m)\u001b[0m\u001b[1;33m,\u001b[0m \u001b[1;33m(\u001b[0m\u001b[1;36m2\u001b[0m\u001b[1;33m,\u001b[0m\u001b[1;36m2\u001b[0m\u001b[1;33m)\u001b[0m\u001b[1;33m,\u001b[0m \u001b[0mstride\u001b[0m\u001b[1;33m=\u001b[0m\u001b[1;36m2\u001b[0m\u001b[1;33m)\u001b[0m\u001b[1;33m\u001b[0m\u001b[0m\n\u001b[1;32m---> 48\u001b[1;33m         \u001b[0mh\u001b[0m \u001b[1;33m=\u001b[0m \u001b[0mF\u001b[0m\u001b[1;33m.\u001b[0m\u001b[0mdropout\u001b[0m\u001b[1;33m(\u001b[0m\u001b[0mF\u001b[0m\u001b[1;33m.\u001b[0m\u001b[0mmax_pooling_2d\u001b[0m\u001b[1;33m(\u001b[0m\u001b[0mF\u001b[0m\u001b[1;33m.\u001b[0m\u001b[0mrelu\u001b[0m\u001b[1;33m(\u001b[0m\u001b[0mself\u001b[0m\u001b[1;33m.\u001b[0m\u001b[0mconv2\u001b[0m\u001b[1;33m(\u001b[0m\u001b[0mh\u001b[0m\u001b[1;33m)\u001b[0m\u001b[1;33m)\u001b[0m\u001b[1;33m,\u001b[0m \u001b[1;33m(\u001b[0m\u001b[1;36m2\u001b[0m\u001b[1;33m,\u001b[0m\u001b[1;36m2\u001b[0m\u001b[1;33m)\u001b[0m\u001b[1;33m,\u001b[0m \u001b[0mstride\u001b[0m\u001b[1;33m=\u001b[0m\u001b[1;36m2\u001b[0m\u001b[1;33m)\u001b[0m\u001b[1;33m,\u001b[0m\u001b[0mtrain\u001b[0m\u001b[1;33m=\u001b[0m\u001b[0mtrain\u001b[0m\u001b[1;33m)\u001b[0m\u001b[1;33m\u001b[0m\u001b[0m\n\u001b[0m\u001b[0;32m     49\u001b[0m         \u001b[0mh\u001b[0m \u001b[1;33m=\u001b[0m \u001b[0mF\u001b[0m\u001b[1;33m.\u001b[0m\u001b[0mdropout\u001b[0m\u001b[1;33m(\u001b[0m\u001b[0mF\u001b[0m\u001b[1;33m.\u001b[0m\u001b[0mrelu\u001b[0m\u001b[1;33m(\u001b[0m\u001b[0mself\u001b[0m\u001b[1;33m.\u001b[0m\u001b[0mfc3\u001b[0m\u001b[1;33m(\u001b[0m\u001b[0mh\u001b[0m\u001b[1;33m)\u001b[0m\u001b[1;33m)\u001b[0m\u001b[1;33m,\u001b[0m\u001b[0mtrain\u001b[0m\u001b[1;33m=\u001b[0m\u001b[0mtrain\u001b[0m\u001b[1;33m)\u001b[0m\u001b[1;33m\u001b[0m\u001b[0m\n\u001b[0;32m     50\u001b[0m \u001b[1;33m\u001b[0m\u001b[0m\n",
      "\u001b[1;32m/home/koyama-m/anaconda/lib/python2.7/site-packages/chainer/function.pyc\u001b[0m in \u001b[0;36m__call__\u001b[1;34m(self, *inputs)\u001b[0m\n\u001b[0;32m    155\u001b[0m         \u001b[0min_data\u001b[0m \u001b[1;33m=\u001b[0m \u001b[0mtuple\u001b[0m\u001b[1;33m(\u001b[0m\u001b[0mx\u001b[0m\u001b[1;33m.\u001b[0m\u001b[0mdata\u001b[0m \u001b[1;32mfor\u001b[0m \u001b[0mx\u001b[0m \u001b[1;32min\u001b[0m \u001b[0mself\u001b[0m\u001b[1;33m.\u001b[0m\u001b[0minputs\u001b[0m\u001b[1;33m)\u001b[0m\u001b[1;33m\u001b[0m\u001b[0m\n\u001b[0;32m    156\u001b[0m         \u001b[1;32mwith\u001b[0m \u001b[0mcuda\u001b[0m\u001b[1;33m.\u001b[0m\u001b[0musing_device\u001b[0m\u001b[1;33m(\u001b[0m\u001b[1;33m*\u001b[0m\u001b[0min_data\u001b[0m\u001b[1;33m)\u001b[0m\u001b[1;33m:\u001b[0m\u001b[1;33m\u001b[0m\u001b[0m\n\u001b[1;32m--> 157\u001b[1;33m             \u001b[0moutputs\u001b[0m \u001b[1;33m=\u001b[0m \u001b[0mself\u001b[0m\u001b[1;33m.\u001b[0m\u001b[0mforward\u001b[0m\u001b[1;33m(\u001b[0m\u001b[0min_data\u001b[0m\u001b[1;33m)\u001b[0m\u001b[1;33m\u001b[0m\u001b[0m\n\u001b[0m\u001b[0;32m    158\u001b[0m         \u001b[1;32massert\u001b[0m \u001b[0mtype\u001b[0m\u001b[1;33m(\u001b[0m\u001b[0moutputs\u001b[0m\u001b[1;33m)\u001b[0m \u001b[1;33m==\u001b[0m \u001b[0mtuple\u001b[0m\u001b[1;33m\u001b[0m\u001b[0m\n\u001b[0;32m    159\u001b[0m \u001b[1;33m\u001b[0m\u001b[0m\n",
      "\u001b[1;32m/home/koyama-m/anaconda/lib/python2.7/site-packages/chainer/function.pyc\u001b[0m in \u001b[0;36mforward\u001b[1;34m(self, inputs)\u001b[0m\n\u001b[0;32m    190\u001b[0m         \"\"\"\n\u001b[0;32m    191\u001b[0m         \u001b[1;32mif\u001b[0m \u001b[0many\u001b[0m\u001b[1;33m(\u001b[0m\u001b[0misinstance\u001b[0m\u001b[1;33m(\u001b[0m\u001b[0mx\u001b[0m\u001b[1;33m,\u001b[0m \u001b[0mcuda\u001b[0m\u001b[1;33m.\u001b[0m\u001b[0mGPUArray\u001b[0m\u001b[1;33m)\u001b[0m \u001b[1;32mfor\u001b[0m \u001b[0mx\u001b[0m \u001b[1;32min\u001b[0m \u001b[0minputs\u001b[0m\u001b[1;33m)\u001b[0m\u001b[1;33m:\u001b[0m\u001b[1;33m\u001b[0m\u001b[0m\n\u001b[1;32m--> 192\u001b[1;33m             \u001b[1;32mreturn\u001b[0m \u001b[0mself\u001b[0m\u001b[1;33m.\u001b[0m\u001b[0mforward_gpu\u001b[0m\u001b[1;33m(\u001b[0m\u001b[0minputs\u001b[0m\u001b[1;33m)\u001b[0m\u001b[1;33m\u001b[0m\u001b[0m\n\u001b[0m\u001b[0;32m    193\u001b[0m         \u001b[1;32melse\u001b[0m\u001b[1;33m:\u001b[0m\u001b[1;33m\u001b[0m\u001b[0m\n\u001b[0;32m    194\u001b[0m             \u001b[1;32mreturn\u001b[0m \u001b[0mself\u001b[0m\u001b[1;33m.\u001b[0m\u001b[0mforward_cpu\u001b[0m\u001b[1;33m(\u001b[0m\u001b[0minputs\u001b[0m\u001b[1;33m)\u001b[0m\u001b[1;33m\u001b[0m\u001b[0m\n",
      "\u001b[1;32m/home/koyama-m/anaconda/lib/python2.7/site-packages/chainer/functions/convolution_2d.pyc\u001b[0m in \u001b[0;36mforward_gpu\u001b[1;34m(self, x)\u001b[0m\n\u001b[0;32m    169\u001b[0m             \u001b[1;32mfor\u001b[0m \u001b[0mi\u001b[0m \u001b[1;32min\u001b[0m \u001b[0mxrange\u001b[0m\u001b[1;33m(\u001b[0m\u001b[0mn\u001b[0m\u001b[1;33m)\u001b[0m\u001b[1;33m:\u001b[0m\u001b[1;33m\u001b[0m\u001b[0m\n\u001b[0;32m    170\u001b[0m                 cuda.culinalg.dot(W_mat, col_mats[i], handle=handle,\n\u001b[1;32m--> 171\u001b[1;33m                                   out=y_mats[i])\n\u001b[0m\u001b[0;32m    172\u001b[0m \u001b[1;33m\u001b[0m\u001b[0m\n\u001b[0;32m    173\u001b[0m             \u001b[1;31m# TODO(beam2d): Support unshared bias\u001b[0m\u001b[1;33m\u001b[0m\u001b[1;33m\u001b[0m\u001b[0m\n",
      "\u001b[1;32m/home/koyama-m/anaconda/lib/python2.7/site-packages/skcuda/linalg.pyc\u001b[0m in \u001b[0;36mdot\u001b[1;34m(x_gpu, y_gpu, transa, transb, handle, out)\u001b[0m\n\u001b[0;32m    632\u001b[0m                 \u001b[0mout\u001b[0m \u001b[1;33m=\u001b[0m \u001b[0mgpuarray\u001b[0m\u001b[1;33m.\u001b[0m\u001b[0mempty\u001b[0m\u001b[1;33m(\u001b[0m\u001b[1;33m(\u001b[0m\u001b[0mm\u001b[0m\u001b[1;33m,\u001b[0m \u001b[0mn\u001b[0m\u001b[1;33m)\u001b[0m\u001b[1;33m,\u001b[0m \u001b[0mx_gpu\u001b[0m\u001b[1;33m.\u001b[0m\u001b[0mdtype\u001b[0m\u001b[1;33m,\u001b[0m \u001b[0morder\u001b[0m\u001b[1;33m=\u001b[0m\u001b[1;34m\"C\"\u001b[0m\u001b[1;33m,\u001b[0m \u001b[0mallocator\u001b[0m\u001b[1;33m=\u001b[0m\u001b[0malloc\u001b[0m\u001b[1;33m)\u001b[0m\u001b[1;33m\u001b[0m\u001b[0m\n\u001b[0;32m    633\u001b[0m \u001b[1;33m\u001b[0m\u001b[0m\n\u001b[1;32m--> 634\u001b[1;33m     \u001b[1;32mreturn\u001b[0m \u001b[0madd_dot\u001b[0m\u001b[1;33m(\u001b[0m\u001b[0mx_gpu\u001b[0m\u001b[1;33m,\u001b[0m \u001b[0my_gpu\u001b[0m\u001b[1;33m,\u001b[0m \u001b[0mout\u001b[0m\u001b[1;33m,\u001b[0m \u001b[0mtransa\u001b[0m\u001b[1;33m,\u001b[0m \u001b[0mtransb\u001b[0m\u001b[1;33m,\u001b[0m \u001b[1;36m1.0\u001b[0m\u001b[1;33m,\u001b[0m \u001b[1;36m0.0\u001b[0m\u001b[1;33m,\u001b[0m \u001b[0mhandle\u001b[0m\u001b[1;33m)\u001b[0m\u001b[1;33m\u001b[0m\u001b[0m\n\u001b[0m\u001b[0;32m    635\u001b[0m \u001b[1;33m\u001b[0m\u001b[0m\n\u001b[0;32m    636\u001b[0m \u001b[1;33m\u001b[0m\u001b[0m\n",
      "\u001b[1;32m/home/koyama-m/anaconda/lib/python2.7/site-packages/skcuda/linalg.pyc\u001b[0m in \u001b[0;36madd_dot\u001b[1;34m(a_gpu, b_gpu, c_gpu, transa, transb, alpha, beta, handle)\u001b[0m\n\u001b[0;32m    520\u001b[0m             \u001b[1;32mraise\u001b[0m \u001b[0mValueError\u001b[0m\u001b[1;33m(\u001b[0m\u001b[1;34m'invalid value for c_gpu'\u001b[0m\u001b[1;33m)\u001b[0m\u001b[1;33m\u001b[0m\u001b[0m\n\u001b[0;32m    521\u001b[0m         cublas_func(handle, transb, transa, m, n, k, alpha, b_gpu.gpudata,\n\u001b[1;32m--> 522\u001b[1;33m                 ldb, a_gpu.gpudata, lda, beta, c_gpu.gpudata, ldc)\n\u001b[0m\u001b[0;32m    523\u001b[0m     \u001b[1;32mreturn\u001b[0m \u001b[0mc_gpu\u001b[0m\u001b[1;33m\u001b[0m\u001b[0m\n\u001b[0;32m    524\u001b[0m \u001b[1;33m\u001b[0m\u001b[0m\n",
      "\u001b[1;32m/home/koyama-m/anaconda/lib/python2.7/site-packages/skcuda/cublas.pyc\u001b[0m in \u001b[0;36mcublasSgemm\u001b[1;34m(handle, transa, transb, m, n, k, alpha, A, lda, B, ldb, beta, C, ldc)\u001b[0m\n\u001b[0;32m   4282\u001b[0m                                        \u001b[0mint\u001b[0m\u001b[1;33m(\u001b[0m\u001b[0mA\u001b[0m\u001b[1;33m)\u001b[0m\u001b[1;33m,\u001b[0m \u001b[0mlda\u001b[0m\u001b[1;33m,\u001b[0m \u001b[0mint\u001b[0m\u001b[1;33m(\u001b[0m\u001b[0mB\u001b[0m\u001b[1;33m)\u001b[0m\u001b[1;33m,\u001b[0m \u001b[0mldb\u001b[0m\u001b[1;33m,\u001b[0m\u001b[1;33m\u001b[0m\u001b[0m\n\u001b[0;32m   4283\u001b[0m                                        \u001b[0mctypes\u001b[0m\u001b[1;33m.\u001b[0m\u001b[0mbyref\u001b[0m\u001b[1;33m(\u001b[0m\u001b[0mctypes\u001b[0m\u001b[1;33m.\u001b[0m\u001b[0mc_float\u001b[0m\u001b[1;33m(\u001b[0m\u001b[0mbeta\u001b[0m\u001b[1;33m)\u001b[0m\u001b[1;33m)\u001b[0m\u001b[1;33m,\u001b[0m\u001b[1;33m\u001b[0m\u001b[0m\n\u001b[1;32m-> 4284\u001b[1;33m                                        int(C), ldc)\n\u001b[0m\u001b[0;32m   4285\u001b[0m     \u001b[0mcublasCheckStatus\u001b[0m\u001b[1;33m(\u001b[0m\u001b[0mstatus\u001b[0m\u001b[1;33m)\u001b[0m\u001b[1;33m\u001b[0m\u001b[0m\n\u001b[0;32m   4286\u001b[0m \u001b[1;33m\u001b[0m\u001b[0m\n",
      "\u001b[1;31mKeyboardInterrupt\u001b[0m: "
     ]
    }
   ],
   "source": [
    "#######################\n",
    "######Training###########\n",
    "#######################\n",
    "\n",
    "trainsize = x_train.shape[0]\n",
    "validsize = x_valid.shape[0]\n",
    "\n",
    "#Data Augmentation\n",
    "x_traintr = np.transpose(x_train, (0,1,3,2))\n",
    "x_trainlr  = x_train[:,:,:,::-1]\n",
    "x_trainud  = x_train[:,:,::-1,:]\n",
    "\n",
    "minibatchsize = 50\n",
    "for epoch in xrange(200):\n",
    "    indexes = np.random.permutation(trainsize)\n",
    "    n_batch = indexes.shape[0]/minibatchsize\n",
    "    sum_loss = 0\n",
    "    sum_accuracy = 0\n",
    "    for i in xrange(0, trainsize, minibatchsize):\n",
    "        \n",
    "        x_batch_orig = x_train[indexes[i : i + minibatchsize]]\n",
    "        y_batch_orig = y_train[indexes[i : i + minibatchsize]]\n",
    "\n",
    "        x_batch_tr = x_traintr[indexes[i : i + minibatchsize]]\n",
    "        y_batch_tr = y_train[indexes[i : i + minibatchsize]]        \n",
    "\n",
    "        x_batch_lr = x_trainlr[indexes[i : i + minibatchsize]]\n",
    "        y_batch_lr = y_train[indexes[i : i + minibatchsize]]\n",
    "\n",
    "        x_batch_ud = x_trainud[indexes[i : i + minibatchsize]]\n",
    "        y_batch_ud = y_train[indexes[i : i + minibatchsize]]\n",
    "\n",
    "        pre_x_batch = np.concatenate((x_batch_orig,x_batch_tr, x_batch_lr, x_batch_ud), axis=0)\n",
    "        pre_y_batch = np.concatenate((y_batch_orig,y_batch_tr, y_batch_lr, y_batch_ud), axis=0)        \n",
    "        \n",
    "        x_batch = cuda.to_gpu(pre_x_batch)\n",
    "        y_batch = cuda.to_gpu(pre_y_batch)\n",
    "        optimizer.zero_grads()\n",
    "        \n",
    "        loss, accuracy,pred = model.forward(x_batch, y_batch)\n",
    "\n",
    "        sum_loss += loss.data*minibatchsize\n",
    "        sum_accuracy += accuracy.data*minibatchsize\n",
    "        loss.backward()\n",
    "        optimizer.update()\n",
    "        #print 'train loss:' + str(loss.data)\n",
    "        #print 'train accuracy(%)' + str(accuracy.data)\n",
    "    \n",
    "    sum_val_loss = 0\n",
    "    sum_val_accuracy = 0\n",
    "    for i in xrange(0,validsize,minibatchsize):\n",
    "        x_batch = cuda.to_gpu(x_valid[i : i + minibatchsize])\n",
    "        y_batch = cuda.to_gpu(y_valid[i : i + minibatchsize])\n",
    "        loss, accuracy,pred = model.forward(x_batch, y_batch,False)\n",
    "        sum_val_loss += loss.data*minibatchsize\n",
    "        sum_val_accuracy += accuracy.data*minibatchsize\n",
    "    \n",
    "    print 'epoch ', epoch\n",
    "    print 'train loss:' + str(sum_loss/trainsize)\n",
    "    print 'train accuracy(%)' + str(sum_accuracy/trainsize*100)\n",
    "    print 'validation loss' + str(sum_val_loss/validsize)    \n",
    "    print 'validation accuracy(%)' + str(sum_val_accuracy/validsize*100)    \n",
    "    "
   ]
  },
  {
   "cell_type": "code",
   "execution_count": null,
   "metadata": {
    "collapsed": true
   },
   "outputs": [],
   "source": [
    "modelname = 'trained_model%s.pkl' %cropsize\n",
    "pickle.dump(model, open(modelname,'wb'),-1)"
   ]
  },
  {
   "cell_type": "code",
   "execution_count": null,
   "metadata": {
    "collapsed": true
   },
   "outputs": [],
   "source": [
    "threshold = 0.5\n",
    "\n",
    "#######################\n",
    "###### Testing ###########\n",
    "#######################\n",
    "testsize = x_test.shape[0]\n",
    "minibatchsize = 1000\n",
    "sum_loss = 0\n",
    "sum_accuracy = 0\n",
    "confusion_matrix = np.zeros((2,2))\n",
    "for i in xrange(0, testsize, minibatchsize):\n",
    "        x_batch = cuda.to_gpu(x_test[i : i + minibatchsize])\n",
    "        y_batch = cuda.to_gpu(y_test[i : i + minibatchsize])\n",
    "        loss, accuracy, prob = model.forward(x_batch, y_batch,train=False)\n",
    "        sum_loss += loss.data*minibatchsize\n",
    "        sum_accuracy += accuracy.data*x_batch.shape[0]\n",
    "        #pred = cuda.to_cpu(prob.data)[:,0]>threshold\n",
    "        pred = np.argmax(cuda.to_cpu(prob.data),axis=1)\n",
    "        \n",
    "        #calc confusion matrix\n",
    "        for j in xrange(x_batch.shape[0]):\n",
    "            confusion_matrix[cuda.to_cpu(y_batch)[j],pred[j]] += 1\n",
    "print 'test loss:' + str(sum_loss/testsize)\n",
    "\n",
    "\n",
    "print 'chance lebel(accuracy)' + str((np.sum(confusion_matrix[0,:])/np.sum(confusion_matrix)))\n",
    "print 'test accuracy(%)' + str((confusion_matrix[0,0]+confusion_matrix[1,1])/np.sum(confusion_matrix))\n",
    "\n",
    "print 'confusion_matrix:'\n",
    "print confusion_matrix"
   ]
  },
  {
   "cell_type": "code",
   "execution_count": null,
   "metadata": {
    "collapsed": false
   },
   "outputs": [],
   "source": []
  },
  {
   "cell_type": "code",
   "execution_count": null,
   "metadata": {
    "collapsed": false
   },
   "outputs": [],
   "source": []
  },
  {
   "cell_type": "code",
   "execution_count": null,
   "metadata": {
    "collapsed": false
   },
   "outputs": [],
   "source": [
    "y_batch_orig.shape, x_batch_orig.shape"
   ]
  },
  {
   "cell_type": "code",
   "execution_count": null,
   "metadata": {
    "collapsed": false
   },
   "outputs": [],
   "source": [
    "model_cpu_ver.forward(pre_x_batch, pre_y_batch)"
   ]
  },
  {
   "cell_type": "code",
   "execution_count": null,
   "metadata": {
    "collapsed": true
   },
   "outputs": [],
   "source": []
  }
 ],
 "metadata": {
  "kernelspec": {
   "display_name": "Python 2",
   "language": "python",
   "name": "python2"
  },
  "language_info": {
   "codemirror_mode": {
    "name": "ipython",
    "version": 2
   },
   "file_extension": ".py",
   "mimetype": "text/x-python",
   "name": "python",
   "nbconvert_exporter": "python",
   "pygments_lexer": "ipython2",
   "version": "2.7.10"
  }
 },
 "nbformat": 4,
 "nbformat_minor": 0
}
